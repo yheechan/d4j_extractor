{
 "cells": [
  {
   "cell_type": "code",
   "execution_count": 2,
   "id": "6394e74e",
   "metadata": {},
   "outputs": [
    {
     "data": {
      "text/plain": [
       "True"
      ]
     },
     "execution_count": 2,
     "metadata": {},
     "output_type": "execute_result"
    }
   ],
   "source": [
    "%matplotlib inline\n",
    "import os\n",
    "import pickle\n",
    "import json\n",
    "import copy\n",
    "import numpy as np\n",
    "import pandas as pd\n",
    "import matplotlib.pyplot as plt\n",
    "import matplotlib as mpl\n",
    "import scipy.stats as stats\n",
    "import dotenv\n",
    "dotenv.load_dotenv()"
   ]
  },
  {
   "cell_type": "code",
   "execution_count": 3,
   "id": "38fa9334",
   "metadata": {},
   "outputs": [],
   "source": [
    "plt.style.use('../style/style-formal.mplstyle')"
   ]
  },
  {
   "cell_type": "code",
   "execution_count": 4,
   "id": "c34fd877",
   "metadata": {},
   "outputs": [],
   "source": [
    "RESEARCH_DATA = os.environ.get(\"RESEARCH_DATA\")\n",
    "\n",
    "EL = \"attempt_1\"\n",
    "PIDS = [\"Lang\", \"Mockito\", \"Math\", \"Time\", \"Chart\"]\n",
    "\n",
    "STD_METHOD = \"lineCnt70_mutCnt7_tcsAll\"\n",
    "CMP_METHOD = \"lineCnt70_mutCnt7_tcsReduced\"\n",
    "\n",
    "EXPERIMENT_DIRNAME = \"experiment_raw_results\"\n",
    "REPEAT_CNT = 10\n",
    "K_FOLD = 10\n",
    "\n",
    "EXP_DIR = os.path.join(RESEARCH_DATA, f\"{EL}/dlfl_out/{EXPERIMENT_DIRNAME}\")\n",
    "assert os.path.exists(EXP_DIR), f\"Result directory does not exist: {EXP_DIR}\""
   ]
  },
  {
   "cell_type": "code",
   "execution_count": 5,
   "id": "3da75ebf",
   "metadata": {},
   "outputs": [],
   "source": [
    "\n",
    "def get_ranks(method_name):\n",
    "    rid2bid2ranks = {}\n",
    "    for rid in range(1, REPEAT_CNT+1):\n",
    "        method_dir = os.path.join(EXP_DIR, f\"repeat_{rid}/methods/{method_name}\")\n",
    "        assert os.path.exists(method_dir), f\"Method directory does not exist: {method_dir}\"\n",
    "        rid2bid2ranks[rid] = {}\n",
    "        for kid in range(1, K_FOLD+1):\n",
    "            result_file = os.path.join(method_dir, f\"results/result_{kid}.txt\")\n",
    "            assert os.path.exists(result_file), f\"Result file does not exist: {result_file}\"\n",
    "\n",
    "            with open(result_file, 'r') as f:\n",
    "                lines = f.readlines()\n",
    "                line_id = 0\n",
    "                while line_id < len(lines):\n",
    "                    line = lines[line_id].strip()\n",
    "                    if line.startswith(\"===\"):\n",
    "                        bid_name = line.strip().split(\"===\")[-1].strip()\n",
    "                        if bid_name not in rid2bid2ranks[rid]:\n",
    "                            rid2bid2ranks[rid][bid_name] = []\n",
    "                        line_id += 1\n",
    "                        while line_id < len(lines):\n",
    "                            new_line = lines[line_id].strip()\n",
    "                            if new_line.startswith(\"===\"):\n",
    "                                line_id -= 1\n",
    "                                break\n",
    "                            rank = int(new_line.strip())\n",
    "                            rid2bid2ranks[rid][bid_name].append(rank)\n",
    "                            line_id += 1\n",
    "                    line_id += 1\n",
    "    return rid2bid2ranks\n"
   ]
  },
  {
   "cell_type": "code",
   "execution_count": 6,
   "id": "85b89bca",
   "metadata": {},
   "outputs": [],
   "source": [
    "STD_BID2RANKS = get_ranks(STD_METHOD)\n",
    "CMP_BID2RANKS = get_ranks(CMP_METHOD)"
   ]
  },
  {
   "cell_type": "code",
   "execution_count": 7,
   "id": "1436eed1",
   "metadata": {},
   "outputs": [
    {
     "name": "stdout",
     "output_type": "stream",
     "text": [
      "STD LEN: 2570\n",
      "CMP LEN: 2570\n"
     ]
    }
   ],
   "source": [
    "BID_LIST = list(STD_BID2RANKS[1].keys())\n",
    "std_rank_list = []\n",
    "cmp_rank_list = []\n",
    "for bid in BID_LIST:\n",
    "    for rid in range(1, REPEAT_CNT+1):\n",
    "        std_rank_list.append(np.mean(STD_BID2RANKS[rid][bid]))\n",
    "        cmp_rank_list.append(np.mean(CMP_BID2RANKS[rid][bid]))\n",
    "print(f\"STD LEN: {len(std_rank_list)}\")\n",
    "print(f\"CMP LEN: {len(cmp_rank_list)}\")"
   ]
  },
  {
   "cell_type": "code",
   "execution_count": 8,
   "id": "fd82854c",
   "metadata": {},
   "outputs": [],
   "source": [
    "wilcoxon_stat, p_value = stats.wilcoxon(\n",
    "    x=std_rank_list,\n",
    "    y=cmp_rank_list,\n",
    "    zero_method='zsplit',\n",
    "    alternative='two-sided'\n",
    ")"
   ]
  },
  {
   "cell_type": "code",
   "execution_count": 9,
   "id": "86589e17",
   "metadata": {},
   "outputs": [
    {
     "name": "stdout",
     "output_type": "stream",
     "text": [
      "wilcoxon_stat: 1607888.0\n",
      "p_value: 0.24214174936083988\n"
     ]
    }
   ],
   "source": [
    "print(f\"wilcoxon_stat: {wilcoxon_stat}\")\n",
    "print(f\"p_value: {p_value}\")"
   ]
  },
  {
   "cell_type": "code",
   "execution_count": null,
   "id": "460677fa",
   "metadata": {},
   "outputs": [],
   "source": []
  }
 ],
 "metadata": {
  "kernelspec": {
   "display_name": "Python 3",
   "language": "python",
   "name": "python3"
  },
  "language_info": {
   "codemirror_mode": {
    "name": "ipython",
    "version": 3
   },
   "file_extension": ".py",
   "mimetype": "text/x-python",
   "name": "python",
   "nbconvert_exporter": "python",
   "pygments_lexer": "ipython3",
   "version": "3.10.12"
  }
 },
 "nbformat": 4,
 "nbformat_minor": 5
}
