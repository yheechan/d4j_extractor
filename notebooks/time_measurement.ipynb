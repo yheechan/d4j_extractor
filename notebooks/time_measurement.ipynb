{
 "cells": [
  {
   "cell_type": "code",
   "execution_count": 1,
   "id": "7ad11056",
   "metadata": {},
   "outputs": [],
   "source": [
    "# change current working directory to the root path\n",
    "# to enable relative imports\n",
    "import json\n",
    "import os\n",
    "curr_path = os.getcwd()\n",
    "root_path = os.path.dirname(curr_path)\n",
    "os.chdir(root_path)\n",
    "\n",
    "import dotenv\n",
    "dotenv.load_dotenv()\n",
    "\n",
    "from lib.database import CRUD\n",
    "\n",
    "\n",
    "# DB_HOST=tester3.kaist.ac.kr\n",
    "# DB_PORT=15432\n",
    "# DB_USER=yangheechan\n",
    "# DB_PASSWORD=yang1234\n",
    "# DB=yangheechan\n",
    "db = CRUD(\n",
    "    host=os.getenv(\"DB_HOST\"),\n",
    "    port=os.getenv(\"DB_PORT\"),\n",
    "    user=os.getenv(\"DB_USER\"),\n",
    "    password=os.getenv(\"DB_PASSWORD\"),\n",
    "    database=os.getenv(\"DB\"),\n",
    "    slack_channel=os.getenv(\"SLACK_CHANNEL\"),\n",
    "    slack_token=os.getenv(\"SLACK_TOKEN\")\n",
    ")\n"
   ]
  },
  {
   "cell_type": "code",
   "execution_count": 2,
   "id": "fb9e3fa2",
   "metadata": {},
   "outputs": [],
   "source": [
    "PID = \"Lang\"\n",
    "EL = \"timeMeasurement_1\"\n",
    "PARALLEL = 8"
   ]
  },
  {
   "cell_type": "code",
   "execution_count": 3,
   "id": "49a3b54d",
   "metadata": {},
   "outputs": [],
   "source": [
    "#              Column             |  Type   | Collation | Nullable | Default \n",
    "# --------------------------------+---------+-----------+----------+---------\n",
    "#  pid                            | text    |           | not null | \n",
    "#  bid                            | integer |           | not null | \n",
    "#  experiment_label               | text    |           | not null | \n",
    "#  instr_duration_sec             | real    |           | not null | \n",
    "#  exec_duration_sec              | real    |           | not null | \n",
    "#  process_duration_sec           | real    |           | not null | \n",
    "#  num_of_failing_tests           | integer |           | not null | \n",
    "#  num_of_passing_tests           | integer |           | not null | \n",
    "#  num_of_relevant_tests          | integer |           | not null | \n",
    "#  relevant_test_total_time_ms    | real    |           | not null | \n",
    "#  num_mutants                    | integer |           | not null | \n",
    "#  num_lines_executed_by_fail_tcs | integer |           | not null | \n",
    "\n",
    "time_measurement_info = db.read(\n",
    "    \"d4j_time_measurement_info\",\n",
    "    conditions={\n",
    "        \"pid\": PID,\n",
    "        \"experiment_label\": EL\n",
    "    }\n",
    ")"
   ]
  },
  {
   "cell_type": "code",
   "execution_count": 4,
   "id": "ae95bc49",
   "metadata": {},
   "outputs": [],
   "source": [
    "def construct_time_info_dict(time_measurement_info):\n",
    "    bid2timeInfo = {}\n",
    "    for row in time_measurement_info:\n",
    "        bid = row[1]\n",
    "        bid2timeInfo[bid] = {\n",
    "            \"pid\": row[0],\n",
    "            \"bid\": bid,\n",
    "            \"experiment_label\": row[2],\n",
    "            \"instr_duration_sec\": row[3],\n",
    "            \"exec_duration_sec\": row[4],\n",
    "            \"process_duration_sec\": row[5],\n",
    "            \"num_of_failing_tests\": row[6],\n",
    "            \"num_of_passing_tests\": row[7],\n",
    "            \"num_of_relevant_tests\": row[8],\n",
    "            \"relevant_test_total_time_ms\": row[9],\n",
    "            \"num_mutants\": row[10],\n",
    "            \"num_lines_executed_by_fail_tcs\": row[11]\n",
    "        }\n",
    "    return bid2timeInfo"
   ]
  },
  {
   "cell_type": "code",
   "execution_count": 5,
   "id": "876b0ab0",
   "metadata": {},
   "outputs": [],
   "source": [
    "bid2timeInfo = construct_time_info_dict(time_measurement_info)"
   ]
  },
  {
   "cell_type": "code",
   "execution_count": 6,
   "id": "6c419d41",
   "metadata": {},
   "outputs": [],
   "source": [
    "def measureTimeDiff(bid2timeInfo):\n",
    "    \"\"\"\n",
    "    CORRECTED time measurement calculation\n",
    "    \n",
    "    The issue was:\n",
    "    1. Using relevant_test_total_time_ms instead of exec_duration_sec\n",
    "    2. Multiplying baseline costs incorrectly\n",
    "    3. Missing the actual test execution time component\n",
    "    \"\"\"\n",
    "    for bid, timeInfo in bid2timeInfo.items():\n",
    "        # Per-mutant calculation (CORRECTED approach)\n",
    "        withCov_per_mutant = (\n",
    "            timeInfo[\"instr_duration_sec\"] + \n",
    "            timeInfo[\"exec_duration_sec\"] + \n",
    "            timeInfo[\"process_duration_sec\"]\n",
    "        )\n",
    "        withoutCov_per_mutant = timeInfo[\"exec_duration_sec\"]\n",
    "        \n",
    "        # Total time for all mutants\n",
    "        withCov = withCov_per_mutant * timeInfo[\"num_mutants\"]\n",
    "        withoutCov = withoutCov_per_mutant * timeInfo[\"num_mutants\"]\n",
    "        \n",
    "        # Relative time difference (overhead percentage)\n",
    "        relativeTimeDiff = ((withCov - withoutCov) / withoutCov) * 100\n",
    "        \n",
    "        # Store values\n",
    "        timeInfo[\"relativeTimeDiff\"] = relativeTimeDiff\n",
    "        timeInfo[\"secWithCov\"] = withCov\n",
    "        timeInfo[\"secWithoutCov\"] = withoutCov\n",
    "        timeInfo[\"minWithCov\"] = withCov / 60\n",
    "        timeInfo[\"minWithoutCov\"] = withoutCov / 60\n",
    "        timeInfo[\"hourWithCov\"] = withCov / 3600\n",
    "        timeInfo[\"hourWithoutCov\"] = withoutCov / 3600\n",
    "        timeInfo[\"hourWithCovParallel\"] = (withCov / 3600) / PARALLEL\n",
    "        timeInfo[\"hourWithoutCovParallel\"] = (withoutCov / 3600) / PARALLEL\n",
    "\n",
    "def measureAvgResults(bid2timeInfo):\n",
    "    results = {\n",
    "        \"fails\": [],\n",
    "        \"passes\": [],\n",
    "        \"relativeTcs\": [],\n",
    "        \"secWithCov\": [],\n",
    "        \"secWithoutCov\": [],\n",
    "        \"minWithCov\": [],\n",
    "        \"minWithoutCov\": [],\n",
    "        \"hourWithCov\": [],\n",
    "        \"hourWithoutCov\": [],\n",
    "        \"hourWithCovParallel\": [],\n",
    "        \"hourWithoutCovParallel\": [],\n",
    "        \"relativeTimeDiff\": [],\n",
    "        \"numMutants\": [],\n",
    "        \"linesExecuted\": []\n",
    "    }\n",
    "    for bid, timeInfo in bid2timeInfo.items():\n",
    "        results[\"fails\"].append(timeInfo[\"num_of_failing_tests\"])\n",
    "        results[\"passes\"].append(timeInfo[\"num_of_passing_tests\"])\n",
    "        results[\"relativeTcs\"].append(timeInfo[\"num_of_relevant_tests\"])\n",
    "        results[\"secWithCov\"].append(timeInfo[\"secWithCov\"])\n",
    "        results[\"secWithoutCov\"].append(timeInfo[\"secWithoutCov\"])\n",
    "        results[\"minWithCov\"].append(timeInfo[\"minWithCov\"])\n",
    "        results[\"minWithoutCov\"].append(timeInfo[\"minWithoutCov\"])\n",
    "        results[\"hourWithCov\"].append(timeInfo[\"hourWithCov\"])\n",
    "        results[\"hourWithoutCov\"].append(timeInfo[\"hourWithoutCov\"])\n",
    "        results[\"hourWithCovParallel\"].append(timeInfo[\"hourWithCovParallel\"])\n",
    "        results[\"hourWithoutCovParallel\"].append(timeInfo[\"hourWithoutCovParallel\"])\n",
    "        results[\"relativeTimeDiff\"].append(timeInfo[\"relativeTimeDiff\"])\n",
    "        results[\"numMutants\"].append(timeInfo[\"num_mutants\"])\n",
    "        results[\"linesExecuted\"].append(timeInfo[\"num_lines_executed_by_fail_tcs\"])\n",
    "\n",
    "    avgResults = {}\n",
    "    for key, values in results.items():\n",
    "        avgResults[key] = sum(values) / len(values) if values else 0\n",
    "    return results, avgResults\n",
    "\n",
    "def showDataFrame(bid2timeInfo):\n",
    "    import pandas as pd\n",
    "    df = pd.DataFrame.from_dict(bid2timeInfo, orient='index')\n",
    "    df.reset_index(inplace=True)\n",
    "    return df"
   ]
  },
  {
   "cell_type": "code",
   "execution_count": 7,
   "id": "5eec6151",
   "metadata": {},
   "outputs": [],
   "source": [
    "measureTimeDiff(bid2timeInfo)"
   ]
  },
  {
   "cell_type": "code",
   "execution_count": 8,
   "id": "f52092da",
   "metadata": {},
   "outputs": [],
   "source": [
    "results, avgResults = measureAvgResults(bid2timeInfo)"
   ]
  },
  {
   "cell_type": "code",
   "execution_count": 9,
   "id": "215c8a82",
   "metadata": {},
   "outputs": [],
   "source": [
    "df = showDataFrame(bid2timeInfo)"
   ]
  },
  {
   "cell_type": "code",
   "execution_count": 10,
   "id": "4e364f13",
   "metadata": {},
   "outputs": [
    {
     "name": "stdout",
     "output_type": "stream",
     "text": [
      "CSV file saved to: /ssd_home/yangheechan/d4j_extractor/notebooks/time_measurement_results.csv\n"
     ]
    }
   ],
   "source": [
    "df.to_csv(\"/ssd_home/yangheechan/d4j_extractor/notebooks/time_measurement_results.csv\", index=False)\n",
    "print(\"CSV file saved to: /ssd_home/yangheechan/d4j_extractor/notebooks/time_measurement_results.csv\")"
   ]
  },
  {
   "cell_type": "code",
   "execution_count": 11,
   "id": "d4c8d059",
   "metadata": {},
   "outputs": [
    {
     "name": "stdout",
     "output_type": "stream",
     "text": [
      "fails: 2.918032786885246\n",
      "passes: 103.0327868852459\n",
      "relativeTcs: 105.95081967213115\n",
      "secWithCov: 29578.277631400157\n",
      "secWithoutCov: 28071.677689754095\n",
      "minWithCov: 492.97129385666926\n",
      "minWithoutCov: 467.86129482923513\n",
      "hourWithCov: 8.21618823094449\n",
      "hourWithoutCov: 7.797688247153914\n",
      "hourWithCovParallel: 1.0270235288680611\n",
      "hourWithoutCovParallel: 0.9747110308942393\n",
      "relativeTimeDiff: 5.550907134829642\n",
      "numMutants: 798.9672131147541\n",
      "linesExecuted: 63.57377049180328\n"
     ]
    }
   ],
   "source": [
    "# print average results\n",
    "for key, val in avgResults.items():\n",
    "    print(f\"{key}: {val}\")"
   ]
  }
 ],
 "metadata": {
  "kernelspec": {
   "display_name": "Python 3",
   "language": "python",
   "name": "python3"
  },
  "language_info": {
   "codemirror_mode": {
    "name": "ipython",
    "version": 3
   },
   "file_extension": ".py",
   "mimetype": "text/x-python",
   "name": "python",
   "nbconvert_exporter": "python",
   "pygments_lexer": "ipython3",
   "version": "3.10.12"
  }
 },
 "nbformat": 4,
 "nbformat_minor": 5
}
